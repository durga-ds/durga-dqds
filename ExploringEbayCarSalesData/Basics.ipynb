{
 "cells": [
  {
   "cell_type": "markdown",
   "metadata": {
    "collapsed": true
   },
   "source": [
    "## Used car dataset from eBay Kleinanzeigen"
   ]
  },
  {
   "cell_type": "markdown",
   "metadata": {},
   "source": [
    "The purpose of this project is importing, cleaning and exploratory analysis of used car listings from the German ebay website. Results are summarized at each step.\n",
    "\n",
    "Visualization is one thing that can be added to enhance the understanding of the data that's analyzed. "
   ]
  },
  {
   "cell_type": "code",
   "execution_count": null,
   "metadata": {
    "collapsed": false
   },
   "outputs": [],
   "source": [
    "# Import necessary packages\n",
    "import numpy as np\n",
    "import pandas as pd\n",
    "\n",
    "# Read the input CSV data file into a dataframe\n",
    "input_file = 'autos.csv'\n",
    "autos = pd.read_csv(input_file, encoding='Latin-1' )\n"
   ]
  },
  {
   "cell_type": "markdown",
   "metadata": {},
   "source": [
    "Some options to look at the dataframe and get familiar with the dataset\n",
    "- Using a helper function that reads in the CSV file and prints out specific number of rows in a table format\n",
    "- Running the variable 'autos' from above. This utilizes the benefits of jupyter notebook for pandas and will render the first few and last few values in a table format. \n",
    "- Using df.head() to print the first few rows in a table format\n",
    "\n"
   ]
  },
  {
   "cell_type": "code",
   "execution_count": null,
   "metadata": {
    "collapsed": false
   },
   "outputs": [],
   "source": [
    "def print_some_rows(csv_file, num_rows, enc='Latin-1'):\n",
    "    return pd.read_csv(csv_file, nrows=num_rows, encoding=enc)"
   ]
  },
  {
   "cell_type": "code",
   "execution_count": null,
   "metadata": {
    "collapsed": false
   },
   "outputs": [],
   "source": [
    "#print_some_rows(input_file, 8)"
   ]
  },
  {
   "cell_type": "code",
   "execution_count": null,
   "metadata": {
    "collapsed": false
   },
   "outputs": [],
   "source": [
    "#autos"
   ]
  },
  {
   "cell_type": "code",
   "execution_count": null,
   "metadata": {
    "collapsed": false
   },
   "outputs": [],
   "source": [
    "autos.head(2)"
   ]
  },
  {
   "cell_type": "code",
   "execution_count": null,
   "metadata": {
    "collapsed": false
   },
   "outputs": [],
   "source": [
    "# Details about the dataframe - number of rows and columns, names of columns and types of data they contain\n",
    "autos.info()"
   ]
  },
  {
   "cell_type": "markdown",
   "metadata": {},
   "source": [
    "## Observations on dataset\n",
    "There are 50,000 rows with 20 columns of datapoints which are mostly strings. \n",
    "\n",
    "There are 5 numeric columns.\n",
    "\n",
    "Some columns have missing values.\n",
    "\n",
    "More observations on patterns and the need to clean: \n",
    "\n",
    "- Some column labels are not as readable or too long. The following edits will make them better\n",
    "\n",
    "Replace\n",
    " 1. `yearOfRegistration` with `registration_year`\n",
    " 2.  `monthOfRegistration` with `registration_month`\n",
    " 3. `notRepairedDamage` with `unrepaired_damage`\n",
    " 4. `dateCreated` with `ad_created`\n",
    " \n",
    "- Some column labels are in camelCase. It will be more user friendly to comply with Python's `lower_case_with_underscores` snake format\n",
    "\n",
    "Define functions to make the two changes to them."
   ]
  },
  {
   "cell_type": "code",
   "execution_count": null,
   "metadata": {
    "collapsed": false
   },
   "outputs": [],
   "source": [
    "# Get column names using .columns attribute\n",
    "print (autos.columns)\n",
    "# While this is useful for looping over in cleaning the column names, df.head() is also useful for a quick view of the names in a table format \n",
    "autos.head(0)"
   ]
  },
  {
   "cell_type": "markdown",
   "metadata": {},
   "source": [
    "## Clean column labels"
   ]
  },
  {
   "cell_type": "code",
   "execution_count": null,
   "metadata": {
    "collapsed": true
   },
   "outputs": [],
   "source": [
    "# Function that edits existing column names to be readable\n",
    "def edit_cols(col):\n",
    "    col = col.replace('yearOfRegistration', 'registration_year')\n",
    "    col = col.replace('monthOfRegistration', 'registration_month')\n",
    "    col = col.replace('notRepairedDamage', 'unrepaired_damage')\n",
    "    col = col.replace('dateCreated', 'ad_created')\n",
    "    return col "
   ]
  },
  {
   "cell_type": "code",
   "execution_count": null,
   "metadata": {
    "collapsed": false,
    "scrolled": true
   },
   "outputs": [],
   "source": [
    "# Implement the above function on the columns\n",
    "ed_cols = []\n",
    "\n",
    "for col in autos.columns:\n",
    "    ed_cols.append(edit_cols(col))\n",
    "# Assign modified column names list back to the .columns attribute\n",
    "autos.columns = ed_cols\n",
    "\n",
    "print (autos.columns)\n",
    "autos.head(0)\n"
   ]
  },
  {
   "cell_type": "code",
   "execution_count": null,
   "metadata": {
    "collapsed": true
   },
   "outputs": [],
   "source": [
    "# Function that converts column names to python snake case\n",
    "def to_snake(col):\n",
    "    snake = col[0].lower()\n",
    "    return (snake + ''.join( '_'+l.lower() if l.isupper() else l for l in col[1:]) )"
   ]
  },
  {
   "cell_type": "code",
   "execution_count": null,
   "metadata": {
    "collapsed": false
   },
   "outputs": [],
   "source": [
    "# Implement the above function on the columns\n",
    "snaked_cols = []\n",
    "for c in autos.columns:\n",
    "    snaked_cols.append(to_snake(c))\n",
    "# Assign modified column names list back to the .columns attribute\n",
    "autos.columns = snaked_cols"
   ]
  },
  {
   "cell_type": "code",
   "execution_count": null,
   "metadata": {
    "collapsed": false,
    "scrolled": true
   },
   "outputs": [],
   "source": [
    "# Column names after the modifications\n",
    "autos.head(0)"
   ]
  },
  {
   "cell_type": "markdown",
   "metadata": {},
   "source": [
    "## Data exploration and cleaning"
   ]
  },
  {
   "cell_type": "code",
   "execution_count": null,
   "metadata": {
    "collapsed": false
   },
   "outputs": [],
   "source": [
    "# Summary stats of all columns - numeric and non-numeric\n",
    "autos.describe(include='all')\n"
   ]
  },
  {
   "cell_type": "code",
   "execution_count": null,
   "metadata": {
    "collapsed": false
   },
   "outputs": [],
   "source": [
    "# Summary stats of just numeric columns to better explore how good data quality is\n",
    "autos.describe()"
   ]
  },
  {
   "cell_type": "code",
   "execution_count": null,
   "metadata": {
    "collapsed": false
   },
   "outputs": [],
   "source": [
    "# Summary stats of non-numeric columns\n",
    "autos.describe(include=['O'])"
   ]
  },
  {
   "cell_type": "markdown",
   "metadata": {},
   "source": [
    "Observations on  numeric columns:\n",
    "- Earliest and latest `registration_year` values 1000 and 9999 need further digging into\n",
    "- `registration_month` is 0 for over 5K data points. It needs to be looked into.\n",
    "- `power_in_ps` for some listings is 0. That means car is a dud or for scrap only\n",
    "- `nr_of_pictures` has 0 for all 50K values, which is not useful for analysis and can be dropped\n",
    "\n",
    "Observations on non-numeric columns:\n",
    "-  Some of the columns have very few unique values and need translation from German to figure usefulness for analysis\n",
    "- `price` has non-digit characters ($ and punctuation - commas). Removing those characters can help converting it to numeric data type\n",
    "- `price` has values of 0 which is strange and needs further study\n",
    "- `odometer` has non-digit characters (km and punctuation - commas), which can be removed and column data type converted to numeric as well  \n",
    "\n",
    "Get a closer look at the counts on numeric columns\n"
   ]
  },
  {
   "cell_type": "code",
   "execution_count": null,
   "metadata": {
    "collapsed": false
   },
   "outputs": [],
   "source": [
    "autos['registration_month'].value_counts()"
   ]
  },
  {
   "cell_type": "code",
   "execution_count": null,
   "metadata": {
    "collapsed": false
   },
   "outputs": [],
   "source": [
    "autos['power_p_s'].value_counts().head(10)"
   ]
  },
  {
   "cell_type": "code",
   "execution_count": null,
   "metadata": {
    "collapsed": false
   },
   "outputs": [],
   "source": [
    "autos['nr_of_pictures'].value_counts()"
   ]
  },
  {
   "cell_type": "code",
   "execution_count": null,
   "metadata": {
    "collapsed": false
   },
   "outputs": [],
   "source": [
    "# Convert string columns to numeric data type \n",
    "autos['price'] = autos['price'].str.replace('$','')\n",
    "autos['price'] = autos['price'].str.replace(',','')\n",
    "autos['odometer'] =autos['odometer'].str.replace('km','')\n",
    "autos['odometer'] =autos['odometer'].str.replace(',','')\n",
    "\n",
    "autos[ ['price', 'odometer']  ] = autos[ ['price', 'odometer']  ].astype(int)"
   ]
  },
  {
   "cell_type": "code",
   "execution_count": null,
   "metadata": {
    "collapsed": false
   },
   "outputs": [],
   "source": [
    "# Rename odometer column to odometer_km, since, km is a useful unit, for information \n",
    "autos.rename({\"odometer\": \"odometer_km\"}, axis=1, inplace=True)"
   ]
  },
  {
   "cell_type": "code",
   "execution_count": null,
   "metadata": {
    "collapsed": false
   },
   "outputs": [],
   "source": [
    "# dataframe.dtypes will help verify the changed data types and column names\n",
    "autos.dtypes"
   ]
  },
  {
   "cell_type": "code",
   "execution_count": null,
   "metadata": {
    "collapsed": false
   },
   "outputs": [],
   "source": [
    "autos.isnull().sum()"
   ]
  },
  {
   "cell_type": "markdown",
   "metadata": {
    "collapsed": true
   },
   "source": [
    "As observed earlier, some columns have null values, however, not more than about 20%"
   ]
  },
  {
   "cell_type": "markdown",
   "metadata": {},
   "source": [
    "## Analysis of numeric columns `price` and `odometer_km`"
   ]
  },
  {
   "cell_type": "code",
   "execution_count": null,
   "metadata": {
    "collapsed": false
   },
   "outputs": [],
   "source": [
    "print (autos['price'].unique().shape)\n",
    "print (autos['odometer_km'].unique().shape)"
   ]
  },
  {
   "cell_type": "code",
   "execution_count": null,
   "metadata": {
    "collapsed": false
   },
   "outputs": [],
   "source": [
    "autos['odometer_km'].unique()"
   ]
  },
  {
   "cell_type": "code",
   "execution_count": null,
   "metadata": {
    "collapsed": false
   },
   "outputs": [],
   "source": [
    "autos['odometer_km'].describe()"
   ]
  },
  {
   "cell_type": "markdown",
   "metadata": {},
   "source": [
    "odometer_km column has nothing that's off. Listings range from low-mileage cars (5000 km) to high-mileage ones (150000 km)"
   ]
  },
  {
   "cell_type": "code",
   "execution_count": null,
   "metadata": {
    "collapsed": false
   },
   "outputs": [],
   "source": [
    "autos['price'].describe()"
   ]
  },
  {
   "cell_type": "markdown",
   "metadata": {},
   "source": [
    "As found earlier, `price` column has some outliers - minimum of 0 and maximum of ~100M dollars. Let's study the price list further"
   ]
  },
  {
   "cell_type": "code",
   "execution_count": null,
   "metadata": {
    "collapsed": false
   },
   "outputs": [],
   "source": [
    " pd.DataFrame(autos['price'].value_counts(dropna=False).head(10))"
   ]
  },
  {
   "cell_type": "markdown",
   "metadata": {},
   "source": [
    "The value_counts index above (which is actually the price) is in ascending order, so, by reversing the order of the index, let's see what the price distribution looks like on the higher end."
   ]
  },
  {
   "cell_type": "code",
   "execution_count": null,
   "metadata": {
    "collapsed": false
   },
   "outputs": [],
   "source": [
    "pd.DataFrame(autos['price'].value_counts().sort_index(ascending=False).head(20))"
   ]
  },
  {
   "cell_type": "markdown",
   "metadata": {},
   "source": [
    "- There are no cars in range  350000 > `price` < 999990\n",
    "\n",
    "- A used car has nearly 100M price tag - find what that is (i.e row with the MAX value of `price` )"
   ]
  },
  {
   "cell_type": "code",
   "execution_count": null,
   "metadata": {
    "collapsed": false
   },
   "outputs": [],
   "source": [
    "\n",
    "pd.DataFrame(autos.loc[autos['price'].idxmax()])"
   ]
  },
  {
   "cell_type": "markdown",
   "metadata": {},
   "source": [
    "It's an intriguing listing name (when translated to english) - *Exchange for something of the same value*.\n",
    "\n",
    "It's also unrealistic a limo with 150K miles would be worth a 100M dollars.  \n",
    "\n",
    "Let's see how many and of what type used cars are in millions of dollars"
   ]
  },
  {
   "cell_type": "code",
   "execution_count": null,
   "metadata": {
    "collapsed": false
   },
   "outputs": [],
   "source": [
    "millions = autos['price'] > 999999\n",
    "car_is = autos[millions]\n",
    "pd.DataFrame(car_is[ ['vehicle_type', 'model','odometer_km', 'brand', 'price' ] ])"
   ]
  },
  {
   "cell_type": "markdown",
   "metadata": {},
   "source": [
    "Even millions price range does not seem to contain any of the expensive brands like Bugatti or Lamborghini, which could sell for that much in used condition. \n",
    "\n",
    "There are many that are missing vehicle type or model. A buyer would need that information before bidding.\n",
    "\n",
    "Therefore, it's reasonable to drop these and explore data points upto 1M. "
   ]
  },
  {
   "cell_type": "code",
   "execution_count": null,
   "metadata": {
    "collapsed": false
   },
   "outputs": [],
   "source": [
    "# Look at the distribution when the price is between 500 and 1M.\n",
    "upto_1mil = autos['price'].between(500,999999)\n",
    "autos_1mil = autos[upto_1mil]\n",
    "autos_1mil['price'].describe()"
   ]
  },
  {
   "cell_type": "markdown",
   "metadata": {},
   "source": [
    "Checking distribution again using an upper price limit of 350K, not many data points are lost compared to 1M, because there are no listings between 350K and 1M. \n",
    "\n",
    "Also, $6K is more realistic for average price of a used car. "
   ]
  },
  {
   "cell_type": "code",
   "execution_count": null,
   "metadata": {
    "collapsed": false
   },
   "outputs": [],
   "source": [
    "# Clean the data so that prices are between 500 and 350K. Look at the distribution \n",
    "upto_350k = autos['price'].between(500,350000)\n",
    "autos_350k = autos[upto_350k]\n",
    "print (autos_350k['price'].describe())\n",
    "autos = autos_350k"
   ]
  },
  {
   "cell_type": "code",
   "execution_count": null,
   "metadata": {
    "collapsed": false
   },
   "outputs": [],
   "source": [
    "# Lines left after cleaning\n",
    "autos.shape"
   ]
  },
  {
   "cell_type": "markdown",
   "metadata": {
    "collapsed": true
   },
   "source": [
    "## Analysis of columns containing dates"
   ]
  },
  {
   "cell_type": "markdown",
   "metadata": {},
   "source": [
    "These columns are string values right now\n",
    "- `date_crawled`\n",
    "- `ad_created` \n",
    "- `last_seen`\n",
    "\n",
    "They can be better understood useful for analysis when converted to numeric type"
   ]
  },
  {
   "cell_type": "code",
   "execution_count": null,
   "metadata": {
    "collapsed": false
   },
   "outputs": [],
   "source": [
    "autos[['date_crawled','ad_created','last_seen']].head()"
   ]
  },
  {
   "cell_type": "markdown",
   "metadata": {
    "collapsed": true
   },
   "source": [
    "- Select first 10 characters which is sufficient for the date in yyyy-mm-dd format\n",
    "- Get relative frequencies (or percentages) instead of counts of the unique values, including missing(null) values, sorted in  ascending order of dates\n",
    "\n",
    "These columns have non-numeric values so, Series.describe() gets us different stats like so:"
   ]
  },
  {
   "cell_type": "code",
   "execution_count": null,
   "metadata": {
    "collapsed": false
   },
   "outputs": [],
   "source": [
    "autos['date_crawled'].str[:10].describe()"
   ]
  },
  {
   "cell_type": "code",
   "execution_count": null,
   "metadata": {
    "collapsed": false
   },
   "outputs": [],
   "source": [
    "# Look at the distribution of values in percentages\n",
    "autos['date_crawled'].str[:10].value_counts(normalize=True, dropna=False).sort_index()"
   ]
  },
  {
   "cell_type": "code",
   "execution_count": null,
   "metadata": {
    "collapsed": false
   },
   "outputs": [],
   "source": [
    "autos['ad_created'].str[:10].describe()"
   ]
  },
  {
   "cell_type": "markdown",
   "metadata": {},
   "source": [
    "Ads are created starting 2015-06-11. Most listings occured on 2016-04-03"
   ]
  },
  {
   "cell_type": "code",
   "execution_count": null,
   "metadata": {
    "collapsed": false
   },
   "outputs": [],
   "source": [
    "# Look at the distribution of values in percentages\n",
    "autos['ad_created'].str[:10].value_counts(normalize=True, dropna=False).sort_index().head(20)"
   ]
  },
  {
   "cell_type": "markdown",
   "metadata": {},
   "source": [
    "`date_crawled` and `last_seen` are the same dates"
   ]
  },
  {
   "cell_type": "code",
   "execution_count": null,
   "metadata": {
    "collapsed": false
   },
   "outputs": [],
   "source": [
    "autos['last_seen'].str[:10].describe()"
   ]
  },
  {
   "cell_type": "code",
   "execution_count": null,
   "metadata": {
    "collapsed": false
   },
   "outputs": [],
   "source": [
    "# Look at the distribution of values in percentages\n",
    "autos['last_seen'].str[:10].value_counts(normalize=True, dropna=False).sort_index()"
   ]
  },
  {
   "cell_type": "markdown",
   "metadata": {},
   "source": [
    "## Analysis of  numeric columns `registration_year` and `registration_month`"
   ]
  },
  {
   "cell_type": "code",
   "execution_count": null,
   "metadata": {
    "collapsed": false
   },
   "outputs": [],
   "source": [
    "autos['registration_year'].describe()"
   ]
  },
  {
   "cell_type": "markdown",
   "metadata": {},
   "source": [
    "Registration years of 1000 or 9999 do not make sense and are irrelevant to analysis.\n",
    "\n",
    "The ad was first crawled starting in 2016 so, the latest valid registration year could not be after 2016. \n",
    "\n",
    "For lower limit on the registration year, I would utilize publicly available knowledge about when first cars came out. \n",
    "\n",
    "Cars became widely available in the early 20th century, even though there were some first ones in late 1800s. \n",
    "- 1886 was the birth year of the modern car when German inventor Karl Benz patented his Benz Patent-Motorwagen and \n",
    "- 1896 was when the first successful American gasoline automobile ( designed by Bicycle mechanics J. Frank and Charles Duryea of Springfield, Massachusetts ) was first sold. \n",
    "\n",
    "Hence, selecting 1920 for lower limit."
   ]
  },
  {
   "cell_type": "code",
   "execution_count": null,
   "metadata": {
    "collapsed": false
   },
   "outputs": [],
   "source": [
    "year_bool = autos['registration_year'].between(1000, 1920)\n"
   ]
  },
  {
   "cell_type": "code",
   "execution_count": null,
   "metadata": {
    "collapsed": false
   },
   "outputs": [],
   "source": [
    "autos.loc[year_bool, ['registration_year', 'brand', 'price']]"
   ]
  },
  {
   "cell_type": "markdown",
   "metadata": {},
   "source": [
    "Based on 1920 for lower cutoff, we won't lose much of valid data"
   ]
  },
  {
   "cell_type": "code",
   "execution_count": null,
   "metadata": {
    "collapsed": true
   },
   "outputs": [],
   "source": [
    "include_reg_year = autos[autos['registration_year'].between(1920,2016)]"
   ]
  },
  {
   "cell_type": "code",
   "execution_count": null,
   "metadata": {
    "collapsed": false
   },
   "outputs": [],
   "source": [
    "include_reg_year.shape"
   ]
  },
  {
   "cell_type": "code",
   "execution_count": null,
   "metadata": {
    "collapsed": false
   },
   "outputs": [],
   "source": [
    "include_reg_year['registration_year'].describe()"
   ]
  },
  {
   "cell_type": "markdown",
   "metadata": {},
   "source": [
    "Looking at the percentages (instead of counts) of the unique registration year values, distribution prior to 1987 needs some looking into whether we can drop them."
   ]
  },
  {
   "cell_type": "code",
   "execution_count": null,
   "metadata": {
    "collapsed": false
   },
   "outputs": [],
   "source": [
    "include_reg_year['registration_year'].value_counts(normalize=True, dropna=False).sort_index()"
   ]
  },
  {
   "cell_type": "code",
   "execution_count": null,
   "metadata": {
    "collapsed": true
   },
   "outputs": [],
   "source": [
    "include_reg_year2 = include_reg_year[include_reg_year['registration_year'].between(1969,2016)]\n"
   ]
  },
  {
   "cell_type": "code",
   "execution_count": null,
   "metadata": {
    "collapsed": false
   },
   "outputs": [],
   "source": [
    "include_reg_year2.shape"
   ]
  },
  {
   "cell_type": "code",
   "execution_count": null,
   "metadata": {
    "collapsed": false
   },
   "outputs": [],
   "source": [
    "include_reg_year2['registration_year'].describe()"
   ]
  },
  {
   "cell_type": "code",
   "execution_count": null,
   "metadata": {
    "collapsed": false
   },
   "outputs": [],
   "source": [
    "include_reg_year2['registration_year'].value_counts(normalize=True, dropna=False).sort_index(ascending=False)"
   ]
  },
  {
   "cell_type": "code",
   "execution_count": null,
   "metadata": {
    "collapsed": false
   },
   "outputs": [],
   "source": [
    "include_reg_year2['registration_year'].value_counts(normalize=True, dropna=False).sort_index(ascending=False).head(23).sum()"
   ]
  },
  {
   "cell_type": "markdown",
   "metadata": {},
   "source": [
    "Distribution of the data for years of registration 1994-2016, with 94% of listings in that range,  indicates it's reasonable to keep that data for analysis."
   ]
  },
  {
   "cell_type": "code",
   "execution_count": null,
   "metadata": {
    "collapsed": false
   },
   "outputs": [],
   "source": [
    "include_1994_2016 = include_reg_year2[include_reg_year2['registration_year'].between(1994,2016)]\n",
    "include_1994_2016.shape"
   ]
  },
  {
   "cell_type": "code",
   "execution_count": null,
   "metadata": {
    "collapsed": false
   },
   "outputs": [],
   "source": [
    "include_1994_2016['registration_year'].describe()"
   ]
  },
  {
   "cell_type": "code",
   "execution_count": null,
   "metadata": {
    "collapsed": false
   },
   "outputs": [],
   "source": [
    "include_1994_2016['registration_year'].value_counts(normalize=True, dropna=False).sort_index()"
   ]
  },
  {
   "cell_type": "code",
   "execution_count": null,
   "metadata": {
    "collapsed": false
   },
   "outputs": [],
   "source": [
    "autos = include_1994_2016"
   ]
  },
  {
   "cell_type": "code",
   "execution_count": null,
   "metadata": {
    "collapsed": false
   },
   "outputs": [],
   "source": [
    "# Taking stock of cleaned data\n",
    "print (autos.shape)\n",
    "autos.head()"
   ]
  },
  {
   "cell_type": "markdown",
   "metadata": {
    "collapsed": true
   },
   "source": [
    "## Analysis of `brand` column \n",
    "Understand mean prices across brands"
   ]
  },
  {
   "cell_type": "code",
   "execution_count": null,
   "metadata": {
    "collapsed": false
   },
   "outputs": [],
   "source": [
    "# List and number of all the unique brands\n",
    "brand_list = autos[\"brand\"].unique()\n",
    "print (len(brand_list))\n",
    "print (brand_list)"
   ]
  },
  {
   "cell_type": "code",
   "execution_count": null,
   "metadata": {
    "collapsed": false
   },
   "outputs": [],
   "source": [
    "counts = pd.DataFrame(autos['brand'].value_counts())\n",
    "counts"
   ]
  },
  {
   "cell_type": "markdown",
   "metadata": {},
   "source": [
    "Selecting brands that have atleast 100 listings, including **Porsche** in the mix makes it interesting to analyze mean prices"
   ]
  },
  {
   "cell_type": "code",
   "execution_count": null,
   "metadata": {
    "collapsed": false
   },
   "outputs": [],
   "source": [
    "#counts[counts.brand > 100] # Note: counts.brand is same as counts['brand']\n",
    "brands_gt_100 = counts[counts.brand > 100].index\n",
    "print (brands_gt_100)"
   ]
  },
  {
   "cell_type": "code",
   "execution_count": null,
   "metadata": {
    "collapsed": false
   },
   "outputs": [],
   "source": [
    "# Aggregate data by `brand` column\n",
    "# Assign brands and their mean prices as key-value pairs to a dictionary\n",
    "brand_price = {}\n",
    "\n",
    "for b in brands_gt_100:\n",
    "    # Select only rows that correspond to a specific brand\n",
    "    brand_rows = autos[autos[\"brand\"] == b]\n",
    "    # Calculate the mean price for those rows\n",
    "    mean_price = brand_rows[\"price\"].mean()\n",
    "    brand_price[b] = mean_price\n",
    "    \n",
    "print (len(brand_price))\n",
    "print (brand_price)"
   ]
  },
  {
   "cell_type": "code",
   "execution_count": null,
   "metadata": {
    "collapsed": false
   },
   "outputs": [],
   "source": [
    "# Construct a dataframe from this dictionary\n",
    "brand_price_df = pd.DataFrame(list(brand_price.items()),columns = ['brand','mean_price'])\n",
    "print (type(brand_price_df))\n",
    "# Sort the mean_price column from highest to lowest, to find its corresponding brand\n",
    "brand_price_df = brand_price_df.sort_values('mean_price', ascending=False)\n",
    "brand_price_df"
   ]
  },
  {
   "cell_type": "code",
   "execution_count": null,
   "metadata": {
    "collapsed": false
   },
   "outputs": [],
   "source": [
    "brand_price_df.describe()"
   ]
  },
  {
   "cell_type": "code",
   "execution_count": null,
   "metadata": {
    "collapsed": false
   },
   "outputs": [],
   "source": [
    "# Top 6 brands \n",
    "counts.head(6)"
   ]
  },
  {
   "cell_type": "code",
   "execution_count": null,
   "metadata": {
    "collapsed": false
   },
   "outputs": [],
   "source": [
    "# Brands by mean price\n",
    "brand_price_df.head(6)"
   ]
  },
  {
   "cell_type": "markdown",
   "metadata": {},
   "source": [
    "- Top brands **Audi, Mercedes Benz** and **BMW**, all German, make the list of used cars with a high mean price\n",
    "- **Ford** and **Opel** are top brands but much cheaper and don't make the list of top brands by price\n",
    "- **Porsche**, also a German car, is the priciest used car at an average of 49661. It's understandable because it is world's #1 luxury brand clearly reflected in its price tag\n",
    "- **Sonstige autos** is a distant second priciest at 14265, followed by \n",
    "- **Mini**, possibly, because it's owned by BMW\n",
    "- **Renault** is the least expensive used car at 2762. \n",
    "- The average used car price is 7194.\n",
    "- **Volkswagen** is the top most brand, however, it's not among the priciest. Its price falls below the average used car"
   ]
  },
  {
   "cell_type": "markdown",
   "metadata": {},
   "source": [
    "## Analysis of mileage of top 6 brands \n",
    "With mean mileage and mean price for each of the top brands, understand if there's any visible link between them"
   ]
  },
  {
   "cell_type": "code",
   "execution_count": null,
   "metadata": {
    "collapsed": false
   },
   "outputs": [],
   "source": [
    "# Aggregate data by `odometer_km' column\n",
    "# Assign brands and their mean mileages as key-value pairs to a dictionary\n",
    "brand_miles = {}\n",
    "\n",
    "for b in list(counts.head(6).index):\n",
    "    # Select only rows that correspond to a specific brand\n",
    "    brand_rows = autos[autos[\"brand\"] == b]\n",
    "    # Calculate the mean mileage for those rows\n",
    "    mean_mileage = brand_rows[\"odometer_km\"].mean()\n",
    "    brand_miles[b] = mean_mileage\n",
    "    \n",
    "print (len(brand_miles))\n",
    "print (brand_miles)"
   ]
  },
  {
   "cell_type": "code",
   "execution_count": null,
   "metadata": {
    "collapsed": false
   },
   "outputs": [],
   "source": [
    "# Convert `brand_miles` dictionary to a series object; don't sort values\n",
    "brand_miles_series = pd.Series(brand_miles)\n",
    "print (brand_miles_series)"
   ]
  },
  {
   "cell_type": "code",
   "execution_count": null,
   "metadata": {
    "collapsed": false
   },
   "outputs": [],
   "source": [
    "# Create a dataframe from the series brand_miles_series \n",
    "brand_miles_df = pd.DataFrame(brand_miles_series,columns = ['avg_miles'])\n",
    "brand_miles_df"
   ]
  },
  {
   "cell_type": "code",
   "execution_count": null,
   "metadata": {
    "collapsed": false
   },
   "outputs": [],
   "source": [
    "# Similarly, calculate the average price for the top 6 brands, using aggregation\n",
    "brand_avg_pr = {}\n",
    "for b in list(counts.head(6).index):\n",
    "    # Select only rows that correspond to a specific brand\n",
    "    brand_rows = autos[autos[\"brand\"] == b]\n",
    "    # Calculate the mean price for those rows\n",
    "    avg_pr = brand_rows[\"price\"].mean()\n",
    "    # Assign the mean price to the dictionary brand_avg_pr, using the brand name as the key\n",
    "    brand_avg_pr[b] = avg_pr\n",
    "    \n",
    "print (len(brand_avg_pr))\n",
    "print (brand_avg_pr)"
   ]
  },
  {
   "cell_type": "code",
   "execution_count": null,
   "metadata": {
    "collapsed": false
   },
   "outputs": [],
   "source": [
    "# Convert `brand_avg_pr` dictionary to a Series object\n",
    "brand_avgpr_series = pd.Series(brand_avg_pr)\n",
    "print (type(brand_avgpr_series))\n",
    "brand_avgpr_series"
   ]
  },
  {
   "cell_type": "code",
   "execution_count": null,
   "metadata": {
    "collapsed": false
   },
   "outputs": [],
   "source": [
    "# Add the Series object as a new column named `mean_price` to the dataframe `brand_miles_df`\n",
    "brand_miles_df['mean_price'] = brand_avgpr_series\n",
    "brand_miles_df"
   ]
  },
  {
   "cell_type": "code",
   "execution_count": null,
   "metadata": {
    "collapsed": false
   },
   "outputs": [],
   "source": [
    "# Sort mileage values for seeing any connection to mean price values\n",
    "brand_miles_df.sort_values('avg_miles', ascending=False)"
   ]
  },
  {
   "cell_type": "markdown",
   "metadata": {},
   "source": [
    "For **Audi, BMW and Mercedes** brands, as mileage drops, the average price consistently goes up. Mileage is a factor when it comes to price, even among high-end brands.\n",
    "\n",
    "**Ford** and **Opel** are not expensive used cars like German brands. However, as average mileage goes down, car price goes up.\n",
    "\n",
    "**Volkswagen** with average mileage similar to **Opel** and higher than **Ford** still costs more than both. That could be because it's just a popular brand. "
   ]
  },
  {
   "cell_type": "markdown",
   "metadata": {},
   "source": [
    "## Drop columns\n"
   ]
  },
  {
   "cell_type": "markdown",
   "metadata": {},
   "source": [
    "There are text columns where all or almost all values are the same or unique values are 1 or very few\n",
    "- column `nr_of_pictures` as identified earlier contains all values = `0` \n",
    "- columns `seller` and `offer_type` seem to have very few unique values  \n",
    "Let's see "
   ]
  },
  {
   "cell_type": "code",
   "execution_count": null,
   "metadata": {
    "collapsed": false
   },
   "outputs": [],
   "source": [
    "print (autos[['seller','offer_type',]].dtypes)\n",
    "autos.shape"
   ]
  },
  {
   "cell_type": "code",
   "execution_count": null,
   "metadata": {
    "collapsed": false
   },
   "outputs": [],
   "source": [
    "num_uniq_seller = len(autos['seller'].unique())\n",
    "num_uniq_offer = len(autos['offer_type'].unique())\n",
    "print (num_uniq_seller)\n",
    "print (num_uniq_offer)"
   ]
  },
  {
   "cell_type": "code",
   "execution_count": null,
   "metadata": {
    "collapsed": false
   },
   "outputs": [],
   "source": [
    "print (autos['seller'].value_counts())\n",
    "print (autos['offer_type'].value_counts())"
   ]
  },
  {
   "cell_type": "code",
   "execution_count": null,
   "metadata": {
    "collapsed": false
   },
   "outputs": [],
   "source": [
    "#Drop them 3 columns\n",
    "autos = autos.drop(['seller','offer_type','nr_of_pictures'],axis=1)"
   ]
  },
  {
   "cell_type": "code",
   "execution_count": null,
   "metadata": {
    "collapsed": false
   },
   "outputs": [],
   "source": [
    "autos.shape"
   ]
  },
  {
   "cell_type": "markdown",
   "metadata": {},
   "source": [
    "## Further data cleaning\n",
    "- ** German to English translation of Categorical data**  \n",
    "These 3 columns have categorical data that needs translation from German  \n",
    "`gearbox`   \n",
    "`unrepaired_damage`  \n",
    "`fuel_type`"
   ]
  },
  {
   "cell_type": "code",
   "execution_count": null,
   "metadata": {
    "collapsed": false
   },
   "outputs": [],
   "source": [
    "autos['gearbox'].value_counts()"
   ]
  },
  {
   "cell_type": "code",
   "execution_count": null,
   "metadata": {
    "collapsed": false
   },
   "outputs": [],
   "source": [
    "autos['unrepaired_damage'].value_counts()"
   ]
  },
  {
   "cell_type": "code",
   "execution_count": null,
   "metadata": {
    "collapsed": false
   },
   "outputs": [],
   "source": [
    "autos['fuel_type'].value_counts()"
   ]
  },
  {
   "cell_type": "code",
   "execution_count": null,
   "metadata": {
    "collapsed": true
   },
   "outputs": [],
   "source": [
    "autos['gearbox'] = autos['gearbox'].str.replace('manuell','manual')\n",
    "autos['gearbox'] = autos['gearbox'].str.replace('automatik','automatic')\n",
    "autos['unrepaired_damage'] = autos['unrepaired_damage'].str.replace('nein','no')\n",
    "autos['unrepaired_damage'] = autos['unrepaired_damage'].str.replace('ja','yes')\n",
    "autos['fuel_type'] = autos['fuel_type'].str.replace('benzin', 'gasoline')\n",
    "autos['fuel_type'] = autos['fuel_type'].str.replace('elektro', 'electric')\n",
    "autos['fuel_type'] = autos['fuel_type'].str.replace('andere', 'other')"
   ]
  },
  {
   "cell_type": "code",
   "execution_count": null,
   "metadata": {
    "collapsed": false
   },
   "outputs": [],
   "source": [
    "print(autos['gearbox'].value_counts())\n",
    "print ('\\n')\n",
    "print(autos['unrepaired_damage'].value_counts())\n",
    "print ('\\n')\n",
    "print(autos['fuel_type'].value_counts())"
   ]
  },
  {
   "cell_type": "markdown",
   "metadata": {},
   "source": [
    "- **Investigation of key words from `name` column worthy of extracting as new columns**"
   ]
  },
  {
   "cell_type": "code",
   "execution_count": null,
   "metadata": {
    "collapsed": false
   },
   "outputs": [],
   "source": [
    "autos[ ['name', 'brand','model']].tail(50)"
   ]
  },
  {
   "cell_type": "markdown",
   "metadata": {},
   "source": [
    "- In some names, the first two words separated by `_`  indicate the `brand` and `model` of the car respectively. However, those columns already exist so, it's not worth extracting them as new columns\n",
    "- Some of the names are obscure to be of value to extract into new columns (for example, `Omas_Liebling` or  `W.Lupo_1.0`)\n",
    "- Some names have information reg. fuel type or gearbox which is redundant even if extracted, as those columns already exist.\n",
    "- In some cases, name is a single word or random number. There's just too much text under name column and not even consistent across all rows, to extract into new columns"
   ]
  },
  {
   "cell_type": "code",
   "execution_count": null,
   "metadata": {
    "collapsed": false
   },
   "outputs": [],
   "source": [
    "single_names =[]\n",
    "for row in list(autos['name']):\n",
    "    if '_' not in row:\n",
    "        single_names.append(row)\n",
    "pd.DataFrame(single_names)"
   ]
  },
  {
   "cell_type": "markdown",
   "metadata": {},
   "source": [
    "There are 101 names that don't convey anything meaningful or they need translation to English. Overall, there are no consistent key words in the `name` column that we can extract as is into separate columns that will provide value to analysis. In fact, it's a good candidate to drop from the dataframe."
   ]
  },
  {
   "cell_type": "code",
   "execution_count": null,
   "metadata": {
    "collapsed": false
   },
   "outputs": [],
   "source": [
    "autos.drop(['name'], axis=1, inplace=True)"
   ]
  },
  {
   "cell_type": "code",
   "execution_count": null,
   "metadata": {
    "collapsed": false
   },
   "outputs": [],
   "source": [
    "autos.shape"
   ]
  },
  {
   "cell_type": "markdown",
   "metadata": {},
   "source": [
    "- **Convertion of all dates to uniform numeric data**"
   ]
  },
  {
   "cell_type": "code",
   "execution_count": null,
   "metadata": {
    "collapsed": false
   },
   "outputs": [],
   "source": [
    "autos.shape"
   ]
  },
  {
   "cell_type": "code",
   "execution_count": null,
   "metadata": {
    "collapsed": false
   },
   "outputs": [],
   "source": [
    "autos[['date_crawled', 'ad_created', 'last_seen']].dtypes"
   ]
  },
  {
   "cell_type": "code",
   "execution_count": null,
   "metadata": {
    "collapsed": false
   },
   "outputs": [],
   "source": [
    "autos[['date_crawled', 'ad_created', 'last_seen']].head()"
   ]
  },
  {
   "cell_type": "code",
   "execution_count": null,
   "metadata": {
    "collapsed": false
   },
   "outputs": [],
   "source": [
    "autos['date_crawled'] = autos['date_crawled'].str[:10]\n",
    "autos['ad_created'] = autos['ad_created'].str[:10]\n",
    "autos['last_seen'] = autos['last_seen'].str[:10]\n"
   ]
  },
  {
   "cell_type": "code",
   "execution_count": null,
   "metadata": {
    "collapsed": false
   },
   "outputs": [],
   "source": [
    "autos['date_crawled'] = autos['date_crawled'].str.replace('-','')\n",
    "autos['ad_created'] = autos['ad_created'].str.replace('-','')\n",
    "autos['last_seen'] = autos['last_seen'].str.replace('-','')"
   ]
  },
  {
   "cell_type": "code",
   "execution_count": null,
   "metadata": {
    "collapsed": false
   },
   "outputs": [],
   "source": [
    "# Convert to data type integer\n",
    "autos[['date_crawled', 'ad_created', 'last_seen']] = autos[['date_crawled', 'ad_created', 'last_seen']].astype(int)"
   ]
  },
  {
   "cell_type": "code",
   "execution_count": null,
   "metadata": {
    "collapsed": false
   },
   "outputs": [],
   "source": [
    "autos[['date_crawled', 'ad_created', 'last_seen']].dtypes"
   ]
  },
  {
   "cell_type": "code",
   "execution_count": null,
   "metadata": {
    "collapsed": false
   },
   "outputs": [],
   "source": [
    "autos[['date_crawled', 'ad_created', 'last_seen']].head()"
   ]
  },
  {
   "cell_type": "markdown",
   "metadata": {},
   "source": [
    "## Further Analysis\n",
    "- **Most common brand/model combinations**"
   ]
  },
  {
   "cell_type": "code",
   "execution_count": null,
   "metadata": {
    "collapsed": false
   },
   "outputs": [],
   "source": [
    "autos[['brand','model']].head()\n"
   ]
  },
  {
   "cell_type": "code",
   "execution_count": null,
   "metadata": {
    "collapsed": false
   },
   "outputs": [],
   "source": [
    "# Concatenate `brand`, `model` strings with a `_`\n",
    "autos['brand_model'] = autos['brand']+'_'+autos['model']"
   ]
  },
  {
   "cell_type": "code",
   "execution_count": null,
   "metadata": {
    "collapsed": false
   },
   "outputs": [],
   "source": [
    "brand_model_df = pd.DataFrame(autos['brand_model'].value_counts())"
   ]
  },
  {
   "cell_type": "code",
   "execution_count": null,
   "metadata": {
    "collapsed": false
   },
   "outputs": [],
   "source": [
    "# The brand/model combinations that make the tope 10 most common listings \n",
    "brand_model_df.head(10)"
   ]
  },
  {
   "cell_type": "markdown",
   "metadata": {},
   "source": [
    "The most common cars by far are **Volkswagen** models. "
   ]
  },
  {
   "cell_type": "markdown",
   "metadata": {},
   "source": [
    "- **How much cheaper are cars with damage than their non-damaged counterparts?**"
   ]
  },
  {
   "cell_type": "code",
   "execution_count": null,
   "metadata": {
    "collapsed": false
   },
   "outputs": [],
   "source": [
    "autos.head(0)"
   ]
  },
  {
   "cell_type": "code",
   "execution_count": null,
   "metadata": {
    "collapsed": false
   },
   "outputs": [],
   "source": [
    "autos.unrepaired_damage.value_counts()"
   ]
  },
  {
   "cell_type": "code",
   "execution_count": null,
   "metadata": {
    "collapsed": false
   },
   "outputs": [],
   "source": [
    "autos['unrepaired_damage'].isnull().sum()"
   ]
  },
  {
   "cell_type": "code",
   "execution_count": null,
   "metadata": {
    "collapsed": false
   },
   "outputs": [],
   "source": [
    "cars_with_damage = autos[autos['unrepaired_damage'] == 'yes']\n",
    "cars_no_damage = autos[autos['unrepaired_damage'] == 'no']\n",
    "\n",
    "print (cars_with_damage.shape)\n",
    "print (cars_no_damage.shape)\n"
   ]
  },
  {
   "cell_type": "code",
   "execution_count": null,
   "metadata": {
    "collapsed": false
   },
   "outputs": [],
   "source": [
    "# Calculate the average price for just this set of rows \n",
    "damage_mean = cars_with_damage['price'].mean()\n",
    "no_damage_mean = cars_no_damage['price'].mean()\n",
    "print (damage_mean)\n",
    "print (no_damage_mean)"
   ]
  },
  {
   "cell_type": "markdown",
   "metadata": {},
   "source": [
    "On an average, cars with unrepaired damages cost over 4500 less than their non-damaged counterparts. Knowing average repair costs for a brand would help a buyer decide if it's worth paying higher price for a car without damages or if the price difference covers the damages for that brand so he or she can get it for cheaper.\n",
    "\n",
    "It's also worth noting that damaged cars do not dominate the listings. 8% of the listings are with (unrepaired) damages while 76% are with no (unrepaired) damages. "
   ]
  },
  {
   "cell_type": "markdown",
   "metadata": {},
   "source": [
    "- **Do average prices follow any patterns based on the mileage?**  \n"
   ]
  },
  {
   "cell_type": "code",
   "execution_count": null,
   "metadata": {
    "collapsed": false
   },
   "outputs": [],
   "source": [
    "mileages = pd.DataFrame(autos['odometer_km'].unique())\n",
    "print (mileages.max() - mileages.min())\n",
    "mileages"
   ]
  },
  {
   "cell_type": "markdown",
   "metadata": {
    "collapsed": true
   },
   "source": [
    "Split the odometer_km into groups or bins and form a list of bin edge values like this:( left bin edge is exclusive and right bin edge is inclusive )\n",
    "\n",
    "[1000, 31000, 61000, 91000, 121000, 151000]                                                      "
   ]
  },
  {
   "cell_type": "code",
   "execution_count": null,
   "metadata": {
    "collapsed": true
   },
   "outputs": [],
   "source": [
    "# Create a new column `odometer_km_bins` that sets the x argument to the `odometer_km` column and sets the bins argument to the list of bin edge values\n",
    "# `odometer_km` values will get assigned to the proper bin\n",
    "autos['odometer_km_bins'] = pd.cut(x=autos['odometer_km'], bins=[1000, 31000, 61000, 91000, 121000, 151000])"
   ]
  },
  {
   "cell_type": "code",
   "execution_count": null,
   "metadata": {
    "collapsed": false
   },
   "outputs": [],
   "source": [
    "# Print out some rows with the new column and checkout the bins\n",
    "autos[['price', 'odometer_km', 'odometer_km_bins']].head()"
   ]
  },
  {
   "cell_type": "code",
   "execution_count": null,
   "metadata": {
    "collapsed": false
   },
   "outputs": [],
   "source": [
    "autos['odometer_km_bins'].value_counts()"
   ]
  },
  {
   "cell_type": "code",
   "execution_count": null,
   "metadata": {
    "collapsed": false
   },
   "outputs": [],
   "source": [
    "# Unique mileage bins to loop over, using index labels \n",
    "autos['odometer_km_bins'].value_counts().index"
   ]
  },
  {
   "cell_type": "code",
   "execution_count": null,
   "metadata": {
    "collapsed": false
   },
   "outputs": [],
   "source": [
    "# Produce a dictionary of average price for each mileage bin \n",
    "avg_price_by_odo_bin = {}\n",
    "\n",
    "for b in autos['odometer_km_bins'].value_counts().index:\n",
    "    # select rows that correspond to each mileage bin\n",
    "    b_rows = autos[autos['odometer_km_bins'] == b]\n",
    "    # Calculate the average price for just those rows\n",
    "    avg_price = b_rows[\"price\"].mean()\n",
    "    # Assign the avg price value to the dictionary, using the odometer_km_bins as the key\n",
    "    avg_price_by_odo_bin[b] = avg_price\n",
    "    \n",
    "print (avg_price_by_odo_bin)"
   ]
  },
  {
   "cell_type": "code",
   "execution_count": null,
   "metadata": {
    "collapsed": false
   },
   "outputs": [],
   "source": [
    "# Create a dataframe from the dictionary\n",
    "odo_price_df = pd.DataFrame(list(avg_price_by_odo_bin.items()),columns = ['odometer_km_groups','avg_price']) "
   ]
  },
  {
   "cell_type": "code",
   "execution_count": null,
   "metadata": {
    "collapsed": false
   },
   "outputs": [],
   "source": [
    "# Sort column in descending order\n",
    "odo_price_df.sort_values('odometer_km_groups', ascending=False)"
   ]
  },
  {
   "cell_type": "markdown",
   "metadata": {},
   "source": [
    "The average price tag consistently goes up as mileage drops."
   ]
  },
  {
   "cell_type": "code",
   "execution_count": null,
   "metadata": {
    "collapsed": true
   },
   "outputs": [],
   "source": []
  }
 ],
 "metadata": {
  "kernelspec": {
   "display_name": "Python 3",
   "language": "python",
   "name": "python3"
  },
  "language_info": {
   "codemirror_mode": {
    "name": "ipython",
    "version": 3
   },
   "file_extension": ".py",
   "mimetype": "text/x-python",
   "name": "python",
   "nbconvert_exporter": "python",
   "pygments_lexer": "ipython3",
   "version": "3.4.3"
  }
 },
 "nbformat": 4,
 "nbformat_minor": 2
}
